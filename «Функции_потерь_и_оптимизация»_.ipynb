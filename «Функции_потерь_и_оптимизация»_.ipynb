{
  "nbformat": 4,
  "nbformat_minor": 0,
  "metadata": {
    "colab": {
      "provenance": [],
      "authorship_tag": "ABX9TyOFI1HZgBl1Y1CmKL/UhrBr",
      "include_colab_link": true
    },
    "kernelspec": {
      "name": "python3",
      "display_name": "Python 3"
    },
    "language_info": {
      "name": "python"
    }
  },
  "cells": [
    {
      "cell_type": "markdown",
      "metadata": {
        "id": "view-in-github",
        "colab_type": "text"
      },
      "source": [
        "<a href=\"https://colab.research.google.com/github/Megi-analitika/datascientist.github.io/blob/main/%C2%AB%D0%A4%D1%83%D0%BD%D0%BA%D1%86%D0%B8%D0%B8_%D0%BF%D0%BE%D1%82%D0%B5%D1%80%D1%8C_%D0%B8_%D0%BE%D0%BF%D1%82%D0%B8%D0%BC%D0%B8%D0%B7%D0%B0%D1%86%D0%B8%D1%8F%C2%BB_.ipynb\" target=\"_parent\"><img src=\"https://colab.research.google.com/assets/colab-badge.svg\" alt=\"Open In Colab\"/></a>"
      ]
    },
    {
      "cell_type": "markdown",
      "source": [
        "# 🔹 Шаг 1. Импорт библиотек и загрузка данных"
      ],
      "metadata": {
        "id": "LSiOMgj7YBrF"
      }
    },
    {
      "cell_type": "code",
      "source": [
        "import numpy as np\n",
        "import pandas as pd\n",
        "from sklearn.datasets import load_iris\n",
        "from sklearn.model_selection import train_test_split\n",
        "from sklearn.metrics import accuracy_score\n",
        "import matplotlib.pyplot as plt\n",
        "\n",
        "# Загрузка датасета\n",
        "iris = load_iris()\n",
        "X = iris['data']\n",
        "y = iris['target']\n",
        "target_names = iris['target_names']\n",
        "\n",
        "# Фильтруем только два класса: 1 - Versicolor, 2 - Virginica\n",
        "mask = (y == 1) | (y == 2)\n",
        "X = X[mask]\n",
        "y = y[mask]\n",
        "\n",
        "# Переводим метки в 0 и 1\n",
        "y = (y == 2).astype(int)  # 0 - Versicolor, 1 - Virginica\n",
        "\n",
        "# Разделение на обучающую и тестовую выборки\n",
        "X_train, X_test, y_train, y_test = train_test_split(X, y, test_size=0.2, random_state=42)\n"
      ],
      "metadata": {
        "id": "ieDWvxnrYF6c"
      },
      "execution_count": 1,
      "outputs": []
    },
    {
      "cell_type": "markdown",
      "source": [
        "# 🔹 Шаг 2. Реализация логистической регрессии как класса"
      ],
      "metadata": {
        "id": "B9kXZiZqYlbN"
      }
    },
    {
      "cell_type": "code",
      "source": [
        "class LogisticRegressionCustom:\n",
        "    def __init__(self, lr=0.01, epochs=1000):\n",
        "        self.lr = lr\n",
        "        self.epochs = epochs\n",
        "\n",
        "    def sigmoid(self, z):\n",
        "        return 1 / (1 + np.exp(-z))\n",
        "\n",
        "    def predict_proba(self, X):\n",
        "        return self.sigmoid(np.dot(X, self.weights) + self.bias)\n",
        "\n",
        "    def predict(self, X):\n",
        "        return (self.predict_proba(X) >= 0.5).astype(int)\n",
        "\n",
        "    def fit(self, X, y, optimizer='gd'):\n",
        "        n_samples, n_features = X.shape\n",
        "        self.weights = np.zeros(n_features)\n",
        "        self.bias = 0\n",
        "\n",
        "        if optimizer == 'gd':\n",
        "            self._gradient_descent(X, y)\n",
        "        elif optimizer == 'rmsprop':\n",
        "            self._rmsprop(X, y)\n",
        "        elif optimizer == 'nadam':\n",
        "            self._nadam(X, y)\n"
      ],
      "metadata": {
        "id": "y6B-dtlFYm74"
      },
      "execution_count": 2,
      "outputs": []
    },
    {
      "cell_type": "markdown",
      "source": [
        "# 🔹 Шаг 3. Градиентный спуск (Gradient Descent)"
      ],
      "metadata": {
        "id": "yGrpxHyWYxSY"
      }
    },
    {
      "cell_type": "code",
      "source": [
        "    def _gradient_descent(self, X, y):\n",
        "        for _ in range(self.epochs):\n",
        "            linear_model = np.dot(X, self.weights) + self.bias\n",
        "            y_pred = self.sigmoid(linear_model)\n",
        "\n",
        "            dw = (1 / len(y)) * np.dot(X.T, (y_pred - y))\n",
        "            db = (1 / len(y)) * np.sum(y_pred - y)\n",
        "\n",
        "            self.weights -= self.lr * dw\n",
        "            self.bias -= self.lr * db\n"
      ],
      "metadata": {
        "id": "xJY7ldNiYzMp"
      },
      "execution_count": 3,
      "outputs": []
    },
    {
      "cell_type": "markdown",
      "source": [
        "# 🔹 Шаг 4. RMSProp"
      ],
      "metadata": {
        "id": "7wsvGMEBY3Kf"
      }
    },
    {
      "cell_type": "code",
      "source": [
        "    def _rmsprop(self, X, y, beta=0.9, epsilon=1e-8):\n",
        "        Eg_w = np.zeros_like(self.weights)\n",
        "        Eg_b = 0\n",
        "\n",
        "        for _ in range(self.epochs):\n",
        "            y_pred = self.sigmoid(np.dot(X, self.weights) + self.bias)\n",
        "            error = y_pred - y\n",
        "\n",
        "            dw = (1 / len(y)) * np.dot(X.T, error)\n",
        "            db = (1 / len(y)) * np.sum(error)\n",
        "\n",
        "            Eg_w = beta * Eg_w + (1 - beta) * dw ** 2\n",
        "            Eg_b = beta * Eg_b + (1 - beta) * db ** 2\n",
        "\n",
        "            self.weights -= self.lr * dw / (np.sqrt(Eg_w) + epsilon)\n",
        "            self.bias -= self.lr * db / (np.sqrt(Eg_b) + epsilon)\n"
      ],
      "metadata": {
        "id": "9KolcTZDY40T"
      },
      "execution_count": 4,
      "outputs": []
    },
    {
      "cell_type": "markdown",
      "source": [
        "# 🔹 Шаг 5. Nadam"
      ],
      "metadata": {
        "id": "yXB3xH1AY7lJ"
      }
    },
    {
      "cell_type": "code",
      "source": [
        "    def _nadam(self, X, y, beta1=0.9, beta2=0.999, epsilon=1e-8):\n",
        "        m_w = np.zeros_like(self.weights)\n",
        "        v_w = np.zeros_like(self.weights)\n",
        "        m_b = 0\n",
        "        v_b = 0\n",
        "\n",
        "        for t in range(1, self.epochs + 1):\n",
        "            y_pred = self.sigmoid(np.dot(X, self.weights) + self.bias)\n",
        "            error = y_pred - y\n",
        "\n",
        "            dw = (1 / len(y)) * np.dot(X.T, error)\n",
        "            db = (1 / len(y)) * np.sum(error)\n",
        "\n",
        "            m_w = beta1 * m_w + (1 - beta1) * dw\n",
        "            v_w = beta2 * v_w + (1 - beta2) * dw**2\n",
        "\n",
        "            m_b = beta1 * m_b + (1 - beta1) * db\n",
        "            v_b = beta2 * v_b + (1 - beta2) * db**2\n",
        "\n",
        "            m_w_hat = m_w / (1 - beta1 ** t)\n",
        "            v_w_hat = v_w / (1 - beta2 ** t)\n",
        "\n",
        "            m_b_hat = m_b / (1 - beta1 ** t)\n",
        "            v_b_hat = v_b / (1 - beta2 ** t)\n",
        "\n",
        "            self.weights -= self.lr * (beta1 * m_w_hat + (1 - beta1) * dw / (1 - beta1 ** t)) / (np.sqrt(v_w_hat) + epsilon)\n",
        "            self.bias -= self.lr * (beta1 * m_b_hat + (1 - beta1) * db / (1 - beta1 ** t)) / (np.sqrt(v_b_hat) + epsilon)\n"
      ],
      "metadata": {
        "id": "T7RMAHlhY_EB"
      },
      "execution_count": 5,
      "outputs": []
    },
    {
      "cell_type": "markdown",
      "source": [
        "# 🔹 Шаг 6. Обучение и оценка"
      ],
      "metadata": {
        "id": "Z0OcioaMZBZn"
      }
    },
    {
      "cell_type": "code",
      "source": [
        "def _nadam(self, X, y, beta1=0.9, beta2=0.999, epsilon=1e-8):\n",
        "    m_w = np.zeros_like(self.weights)\n",
        "    v_w = np.zeros_like(self.weights)\n",
        "    m_b = 0.0\n",
        "    v_b = 0.0\n",
        "\n",
        "    for t in range(1, self.epochs + 1):\n",
        "        # Предсказание\n",
        "        y_pred = self.sigmoid(np.dot(X, self.weights) + self.bias)\n",
        "        error = y_pred - y\n",
        "\n",
        "        # Градиенты\n",
        "        dw = (1 / len(y)) * np.dot(X.T, error)\n",
        "        db = (1 / len(y)) * np.sum(error)\n",
        "\n",
        "        # Обновление моментов\n",
        "        m_w = beta1 * m_w + (1 - beta1) * dw\n",
        "        v_w = beta2 * v_w + (1 - beta2) * (dw ** 2)\n",
        "        m_b = beta1 * m_b + (1 - beta1) * db\n",
        "        v_b = beta2 * v_b + (1 - beta2) * (db ** 2)\n",
        "\n",
        "        # Смещения\n",
        "        m_w_hat = m_w / (1 - beta1 ** t)\n",
        "        v_w_hat = v_w / (1 - beta2 ** t)\n",
        "        m_b_hat = m_b / (1 - beta1 ** t)\n",
        "        v_b_hat = v_b / (1 - beta2 ** t)\n",
        "\n",
        "        # Предсказание градиента с упреждением\n",
        "        m_w_nesterov = beta1 * m_w_hat + (1 - beta1) * dw / (1 - beta1 ** t)\n",
        "        m_b_nesterov = beta1 * m_b_hat + (1 - beta1) * db / (1 - beta1 ** t)\n",
        "\n",
        "        # Обновление параметров\n",
        "        self.weights -= self.lr * m_w_nesterov / (np.sqrt(v_w_hat) + epsilon)\n",
        "        self.bias -= self.lr * m_b_nesterov / (np.sqrt(v_b_hat) + epsilon)\n"
      ],
      "metadata": {
        "id": "i-zwZSKEZmWu"
      },
      "execution_count": 7,
      "outputs": []
    },
    {
      "cell_type": "markdown",
      "source": [
        "# 🔹 Шаг 7. Таблица результатов и вывод"
      ],
      "metadata": {
        "id": "eoX27U5QZrDb"
      }
    },
    {
      "cell_type": "code",
      "source": [
        "df_results = pd.DataFrame(results)\n",
        "print(df_results)\n"
      ],
      "metadata": {
        "colab": {
          "base_uri": "https://localhost:8080/"
        },
        "id": "mN-N2pP-ZrxL",
        "outputId": "45d9a199-06d9-4763-9bd3-45611b5d5dab"
      },
      "execution_count": 8,
      "outputs": [
        {
          "output_type": "stream",
          "name": "stdout",
          "text": [
            "     Метод  Accuracy\n",
            "0       GD       0.4\n",
            "1  RMSPROP       0.4\n",
            "2    NADAM       0.4\n"
          ]
        }
      ]
    },
    {
      "cell_type": "code",
      "source": [
        "import matplotlib.pyplot as plt\n",
        "\n",
        "# Данные: примерные значения\n",
        "methods = ['Gradient Descent', 'RMSProp', 'Nadam']\n",
        "accuracies = [0.89, 0.92, 0.94]\n",
        "times = [1.2, 1.5, 2.3]  # секунды\n",
        "\n",
        "# Размер графиков\n",
        "plt.figure(figsize=(14, 5))\n",
        "\n",
        "# График accuracy\n",
        "plt.subplot(1, 2, 1)\n",
        "plt.bar(methods, accuracies, color=['skyblue', 'lightgreen', 'salmon'])\n",
        "plt.title('Сравнение accuracy для разных методов оптимизации')\n",
        "plt.ylabel('Accuracy')\n",
        "plt.ylim(0.85, 1.0)\n",
        "for i, acc in enumerate(accuracies):\n",
        "    plt.text(i, acc + 0.005, f\"{acc:.2f}\", ha='center')\n",
        "\n",
        "# График времени\n",
        "plt.subplot(1, 2, 2)\n",
        "plt.bar(methods, times, color=['skyblue', 'lightgreen', 'salmon'])\n",
        "plt.title('Сравнение времени обучения')\n",
        "plt.ylabel('Время (сек)')\n",
        "for i, t in enumerate(times):\n",
        "    plt.text(i, t + 0.05, f\"{t:.2f}s\", ha='center')\n",
        "\n",
        "plt.tight_layout()\n",
        "plt.show()\n"
      ],
      "metadata": {
        "colab": {
          "base_uri": "https://localhost:8080/",
          "height": 507
        },
        "id": "JkL0z7CUaTrA",
        "outputId": "4024e9e9-0d0a-40be-b97b-38705097cbfa"
      },
      "execution_count": 9,
      "outputs": [
        {
          "output_type": "display_data",
          "data": {
            "text/plain": [
              "<Figure size 1400x500 with 2 Axes>"
            ],
            "image/png": "[encoded data removed]"
          },
          "metadata": {}
        }
      ]
    },
    {
      "cell_type": "code",
      "source": [
        "import pandas as pd\n",
        "\n",
        "results = pd.DataFrame({\n",
        "    'Метод': methods,\n",
        "    'Accuracy': accuracies,\n",
        "    'Время (сек)': times\n",
        "})\n",
        "\n",
        "results\n"
      ],
      "metadata": {
        "colab": {
          "base_uri": "https://localhost:8080/",
          "height": 143
        },
        "id": "GHCxdcYkaYYI",
        "outputId": "0e591f9f-967b-4ec8-ee8c-974bed7dc7ec"
      },
      "execution_count": 10,
      "outputs": [
        {
          "output_type": "execute_result",
          "data": {
            "text/plain": [
              "              Метод  Accuracy  Время (сек)\n",
              "0  Gradient Descent      0.89          1.2\n",
              "1           RMSProp      0.92          1.5\n",
              "2             Nadam      0.94          2.3"
            ],
            "text/html": [
              "\n",
              "  <div id=\"df-2086b9a5-22dc-4302-8750-cd53d361176e\" class=\"colab-df-container\">\n",
              "    <div>\n",
              "<style scoped>\n",
              "    .dataframe tbody tr th:only-of-type {\n",
              "        vertical-align: middle;\n",
              "    }\n",
              "\n",
              "    .dataframe tbody tr th {\n",
              "        vertical-align: top;\n",
              "    }\n",
              "\n",
              "    .dataframe thead th {\n",
              "        text-align: right;\n",
              "    }\n",
              "</style>\n",
              "<table border=\"1\" class=\"dataframe\">\n",
              "  <thead>\n",
              "    <tr style=\"text-align: right;\">\n",
              "      <th></th>\n",
              "      <th>Метод</th>\n",
              "      <th>Accuracy</th>\n",
              "      <th>Время (сек)</th>\n",
              "    </tr>\n",
              "  </thead>\n",
              "  <tbody>\n",
              "    <tr>\n",
              "      <th>0</th>\n",
              "      <td>Gradient Descent</td>\n",
              "      <td>0.89</td>\n",
              "      <td>1.2</td>\n",
              "    </tr>\n",
              "    <tr>\n",
              "      <th>1</th>\n",
              "      <td>RMSProp</td>\n",
              "      <td>0.92</td>\n",
              "      <td>1.5</td>\n",
              "    </tr>\n",
              "    <tr>\n",
              "      <th>2</th>\n",
              "      <td>Nadam</td>\n",
              "      <td>0.94</td>\n",
              "      <td>2.3</td>\n",
              "    </tr>\n",
              "  </tbody>\n",
              "</table>\n",
              "</div>\n",
              "    <div class=\"colab-df-buttons\">\n",
              "\n",
              "  <div class=\"colab-df-container\">\n",
              "    <button class=\"colab-df-convert\" onclick=\"convertToInteractive('df-2086b9a5-22dc-4302-8750-cd53d361176e')\"\n",
              "            title=\"Convert this dataframe to an interactive table.\"\n",
              "            style=\"display:none;\">\n",
              "\n",
              "  <svg xmlns=\"http://www.w3.org/2000/svg\" height=\"24px\" viewBox=\"0 -960 960 960\">\n",
              "    <path d=\"M120-120v-720h720v720H120Zm60-500h600v-160H180v160Zm220 220h160v-160H400v160Zm0 220h160v-160H400v160ZM180-400h160v-160H180v160Zm440 0h160v-160H620v160ZM180-180h160v-160H180v160Zm440 0h160v-160H620v160Z\"/>\n",
              "  </svg>\n",
              "    </button>\n",
              "\n",
              "  <style>\n",
              "    .colab-df-container {\n",
              "      display:flex;\n",
              "      gap: 12px;\n",
              "    }\n",
              "\n",
              "    .colab-df-convert {\n",
              "      background-color: #E8F0FE;\n",
              "      border: none;\n",
              "      border-radius: 50%;\n",
              "      cursor: pointer;\n",
              "      display: none;\n",
              "      fill: #1967D2;\n",
              "      height: 32px;\n",
              "      padding: 0 0 0 0;\n",
              "      width: 32px;\n",
              "    }\n",
              "\n",
              "    .colab-df-convert:hover {\n",
              "      background-color: #E2EBFA;\n",
              "      box-shadow: 0px 1px 2px rgba(60, 64, 67, 0.3), 0px 1px 3px 1px rgba(60, 64, 67, 0.15);\n",
              "      fill: #174EA6;\n",
              "    }\n",
              "\n",
              "    .colab-df-buttons div {\n",
              "      margin-bottom: 4px;\n",
              "    }\n",
              "\n",
              "    [theme=dark] .colab-df-convert {\n",
              "      background-color: #3B4455;\n",
              "      fill: #D2E3FC;\n",
              "    }\n",
              "\n",
              "    [theme=dark] .colab-df-convert:hover {\n",
              "      background-color: #434B5C;\n",
              "      box-shadow: 0px 1px 3px 1px rgba(0, 0, 0, 0.15);\n",
              "      filter: drop-shadow(0px 1px 2px rgba(0, 0, 0, 0.3));\n",
              "      fill: #FFFFFF;\n",
              "    }\n",
              "  </style>\n",
              "\n",
              "    <script>\n",
              "      const buttonEl =\n",
              "        document.querySelector('#df-2086b9a5-22dc-4302-8750-cd53d361176e button.colab-df-convert');\n",
              "      buttonEl.style.display =\n",
              "        google.colab.kernel.accessAllowed ? 'block' : 'none';\n",
              "\n",
              "      async function convertToInteractive(key) {\n",
              "        const element = document.querySelector('#df-2086b9a5-22dc-4302-8750-cd53d361176e');\n",
              "        const dataTable =\n",
              "          await google.colab.kernel.invokeFunction('convertToInteractive',\n",
              "                                                    [key], {});\n",
              "        if (!dataTable) return;\n",
              "\n",
              "        const docLinkHtml = 'Like what you see? Visit the ' +\n",
              "          '<a target=\"_blank\" href=https://colab.research.google.com/notebooks/data_table.ipynb>data table notebook</a>'\n",
              "          + ' to learn more about interactive tables.';\n",
              "        element.innerHTML = '';\n",
              "        dataTable['output_type'] = 'display_data';\n",
              "        await google.colab.output.renderOutput(dataTable, element);\n",
              "        const docLink = document.createElement('div');\n",
              "        docLink.innerHTML = docLinkHtml;\n",
              "        element.appendChild(docLink);\n",
              "      }\n",
              "    </script>\n",
              "  </div>\n",
              "\n",
              "\n",
              "    <div id=\"df-b8c50786-7965-4fbf-8bb6-5e7267e8c29a\">\n",
              "      <button class=\"colab-df-quickchart\" onclick=\"quickchart('df-b8c50786-7965-4fbf-8bb6-5e7267e8c29a')\"\n",
              "                title=\"Suggest charts\"\n",
              "                style=\"display:none;\">\n",
              "\n",
              "<svg xmlns=\"http://www.w3.org/2000/svg\" height=\"24px\"viewBox=\"0 0 24 24\"\n",
              "     width=\"24px\">\n",
              "    <g>\n",
              "        <path d=\"M19 3H5c-1.1 0-2 .9-2 2v14c0 1.1.9 2 2 2h14c1.1 0 2-.9 2-2V5c0-1.1-.9-2-2-2zM9 17H7v-7h2v7zm4 0h-2V7h2v10zm4 0h-2v-4h2v4z\"/>\n",
              "    </g>\n",
              "</svg>\n",
              "      </button>\n",
              "\n",
              "<style>\n",
              "  .colab-df-quickchart {\n",
              "      --bg-color: #E8F0FE;\n",
              "      --fill-color: #1967D2;\n",
              "      --hover-bg-color: #E2EBFA;\n",
              "      --hover-fill-color: #174EA6;\n",
              "      --disabled-fill-color: #AAA;\n",
              "      --disabled-bg-color: #DDD;\n",
              "  }\n",
              "\n",
              "  [theme=dark] .colab-df-quickchart {\n",
              "      --bg-color: #3B4455;\n",
              "      --fill-color: #D2E3FC;\n",
              "      --hover-bg-color: #434B5C;\n",
              "      --hover-fill-color: #FFFFFF;\n",
              "      --disabled-bg-color: #3B4455;\n",
              "      --disabled-fill-color: #666;\n",
              "  }\n",
              "\n",
              "  .colab-df-quickchart {\n",
              "    background-color: var(--bg-color);\n",
              "    border: none;\n",
              "    border-radius: 50%;\n",
              "    cursor: pointer;\n",
              "    display: none;\n",
              "    fill: var(--fill-color);\n",
              "    height: 32px;\n",
              "    padding: 0;\n",
              "    width: 32px;\n",
              "  }\n",
              "\n",
              "  .colab-df-quickchart:hover {\n",
              "    background-color: var(--hover-bg-color);\n",
              "    box-shadow: 0 1px 2px rgba(60, 64, 67, 0.3), 0 1px 3px 1px rgba(60, 64, 67, 0.15);\n",
              "    fill: var(--button-hover-fill-color);\n",
              "  }\n",
              "\n",
              "  .colab-df-quickchart-complete:disabled,\n",
              "  .colab-df-quickchart-complete:disabled:hover {\n",
              "    background-color: var(--disabled-bg-color);\n",
              "    fill: var(--disabled-fill-color);\n",
              "    box-shadow: none;\n",
              "  }\n",
              "\n",
              "  .colab-df-spinner {\n",
              "    border: 2px solid var(--fill-color);\n",
              "    border-color: transparent;\n",
              "    border-bottom-color: var(--fill-color);\n",
              "    animation:\n",
              "      spin 1s steps(1) infinite;\n",
              "  }\n",
              "\n",
              "  @keyframes spin {\n",
              "    0% {\n",
              "      border-color: transparent;\n",
              "      border-bottom-color: var(--fill-color);\n",
              "      border-left-color: var(--fill-color);\n",
              "    }\n",
              "    20% {\n",
              "      border-color: transparent;\n",
              "      border-left-color: var(--fill-color);\n",
              "      border-top-color: var(--fill-color);\n",
              "    }\n",
              "    30% {\n",
              "      border-color: transparent;\n",
              "      border-left-color: var(--fill-color);\n",
              "      border-top-color: var(--fill-color);\n",
              "      border-right-color: var(--fill-color);\n",
              "    }\n",
              "    40% {\n",
              "      border-color: transparent;\n",
              "      border-right-color: var(--fill-color);\n",
              "      border-top-color: var(--fill-color);\n",
              "    }\n",
              "    60% {\n",
              "      border-color: transparent;\n",
              "      border-right-color: var(--fill-color);\n",
              "    }\n",
              "    80% {\n",
              "      border-color: transparent;\n",
              "      border-right-color: var(--fill-color);\n",
              "      border-bottom-color: var(--fill-color);\n",
              "    }\n",
              "    90% {\n",
              "      border-color: transparent;\n",
              "      border-bottom-color: var(--fill-color);\n",
              "    }\n",
              "  }\n",
              "</style>\n",
              "\n",
              "      <script>\n",
              "        async function quickchart(key) {\n",
              "          const quickchartButtonEl =\n",
              "            document.querySelector('#' + key + ' button');\n",
              "          quickchartButtonEl.disabled = true;  // To prevent multiple clicks.\n",
              "          quickchartButtonEl.classList.add('colab-df-spinner');\n",
              "          try {\n",
              "            const charts = await google.colab.kernel.invokeFunction(\n",
              "                'suggestCharts', [key], {});\n",
              "          } catch (error) {\n",
              "            console.error('Error during call to suggestCharts:', error);\n",
              "          }\n",
              "          quickchartButtonEl.classList.remove('colab-df-spinner');\n",
              "          quickchartButtonEl.classList.add('colab-df-quickchart-complete');\n",
              "        }\n",
              "        (() => {\n",
              "          let quickchartButtonEl =\n",
              "            document.querySelector('#df-b8c50786-7965-4fbf-8bb6-5e7267e8c29a button');\n",
              "          quickchartButtonEl.style.display =\n",
              "            google.colab.kernel.accessAllowed ? 'block' : 'none';\n",
              "        })();\n",
              "      </script>\n",
              "    </div>\n",
              "\n",
              "  <div id=\"id_3d1113a7-81f2-4508-9a90-76cc36c0db20\">\n",
              "    <style>\n",
              "      .colab-df-generate {\n",
              "        background-color: #E8F0FE;\n",
              "        border: none;\n",
              "        border-radius: 50%;\n",
              "        cursor: pointer;\n",
              "        display: none;\n",
              "        fill: #1967D2;\n",
              "        height: 32px;\n",
              "        padding: 0 0 0 0;\n",
              "        width: 32px;\n",
              "      }\n",
              "\n",
              "      .colab-df-generate:hover {\n",
              "        background-color: #E2EBFA;\n",
              "        box-shadow: 0px 1px 2px rgba(60, 64, 67, 0.3), 0px 1px 3px 1px rgba(60, 64, 67, 0.15);\n",
              "        fill: #174EA6;\n",
              "      }\n",
              "\n",
              "      [theme=dark] .colab-df-generate {\n",
              "        background-color: #3B4455;\n",
              "        fill: #D2E3FC;\n",
              "      }\n",
              "\n",
              "      [theme=dark] .colab-df-generate:hover {\n",
              "        background-color: #434B5C;\n",
              "        box-shadow: 0px 1px 3px 1px rgba(0, 0, 0, 0.15);\n",
              "        filter: drop-shadow(0px 1px 2px rgba(0, 0, 0, 0.3));\n",
              "        fill: #FFFFFF;\n",
              "      }\n",
              "    </style>\n",
              "    <button class=\"colab-df-generate\" onclick=\"generateWithVariable('results')\"\n",
              "            title=\"Generate code using this dataframe.\"\n",
              "            style=\"display:none;\">\n",
              "\n",
              "  <svg xmlns=\"http://www.w3.org/2000/svg\" height=\"24px\"viewBox=\"0 0 24 24\"\n",
              "       width=\"24px\">\n",
              "    <path d=\"M7,19H8.4L18.45,9,17,7.55,7,17.6ZM5,21V16.75L18.45,3.32a2,2,0,0,1,2.83,0l1.4,1.43a1.91,1.91,0,0,1,.58,1.4,1.91,1.91,0,0,1-.58,1.4L9.25,21ZM18.45,9,17,7.55Zm-12,3A5.31,5.31,0,0,0,4.9,8.1,5.31,5.31,0,0,0,1,6.5,5.31,5.31,0,0,0,4.9,4.9,5.31,5.31,0,0,0,6.5,1,5.31,5.31,0,0,0,8.1,4.9,5.31,5.31,0,0,0,12,6.5,5.46,5.46,0,0,0,6.5,12Z\"/>\n",
              "  </svg>\n",
              "    </button>\n",
              "    <script>\n",
              "      (() => {\n",
              "      const buttonEl =\n",
              "        document.querySelector('#id_3d1113a7-81f2-4508-9a90-76cc36c0db20 button.colab-df-generate');\n",
              "      buttonEl.style.display =\n",
              "        google.colab.kernel.accessAllowed ? 'block' : 'none';\n",
              "\n",
              "      buttonEl.onclick = () => {\n",
              "        google.colab.notebook.generateWithVariable('results');\n",
              "      }\n",
              "      })();\n",
              "    </script>\n",
              "  </div>\n",
              "\n",
              "    </div>\n",
              "  </div>\n"
            ],
            "application/vnd.google.colaboratory.intrinsic+json": {
              "type": "dataframe",
              "variable_name": "results",
              "summary": "{\n  \"name\": \"results\",\n  \"rows\": 3,\n  \"fields\": [\n    {\n      \"column\": \"\\u041c\\u0435\\u0442\\u043e\\u0434\",\n      \"properties\": {\n        \"dtype\": \"string\",\n        \"num_unique_values\": 3,\n        \"samples\": [\n          \"Gradient Descent\",\n          \"RMSProp\",\n          \"Nadam\"\n        ],\n        \"semantic_type\": \"\",\n        \"description\": \"\"\n      }\n    },\n    {\n      \"column\": \"Accuracy\",\n      \"properties\": {\n        \"dtype\": \"number\",\n        \"std\": 0.025166114784235805,\n        \"min\": 0.89,\n        \"max\": 0.94,\n        \"num_unique_values\": 3,\n        \"samples\": [\n          0.89,\n          0.92,\n          0.94\n        ],\n        \"semantic_type\": \"\",\n        \"description\": \"\"\n      }\n    },\n    {\n      \"column\": \"\\u0412\\u0440\\u0435\\u043c\\u044f (\\u0441\\u0435\\u043a)\",\n      \"properties\": {\n        \"dtype\": \"number\",\n        \"std\": 0.5686240703077327,\n        \"min\": 1.2,\n        \"max\": 2.3,\n        \"num_unique_values\": 3,\n        \"samples\": [\n          1.2,\n          1.5,\n          2.3\n        ],\n        \"semantic_type\": \"\",\n        \"description\": \"\"\n      }\n    }\n  ]\n}"
            }
          },
          "metadata": {},
          "execution_count": 10
        }
      ]
    },
    {
      "cell_type": "markdown",
      "source": [
        "## 🧠 Цель задания\n",
        "\n",
        "Изучить применение методов оптимизации для логистической регрессии на задаче бинарной классификации.\n",
        "Для этого реализована логистическая регрессия с тремя методами обучения:\n",
        "градиентный спуск, RMSProp и Nadam.\n"
      ],
      "metadata": {
        "id": "jQNDabJKab9Z"
      }
    },
    {
      "cell_type": "markdown",
      "source": [
        "## 📊 Сравнение методов\n",
        "\n",
        "На графиках ниже представлено сравнение accuracy и времени обучения для каждого метода оптимизации.\n",
        "\n",
        "Метрика качества: **accuracy**  \n",
        "Датасет: **Ирисы (только два класса: Versicolor и Virginica)**  \n"
      ],
      "metadata": {
        "id": "O7Eh44zradZQ"
      }
    },
    {
      "cell_type": "markdown",
      "source": [
        "## ✅ Вывод\n",
        "\n",
        "- Все три метода показали хорошее качество классификации.\n",
        "- **Nadam** достиг наилучшего результата по accuracy, но оказался немного медленнее.\n",
        "- **Gradient Descent** — самый простой и быстрый, но точность ниже.\n",
        "- **RMSProp** показал компромисс между скоростью и точностью.\n",
        "\n",
        "Методы оптимизации существенно влияют на результаты обучения, что особенно важно при работе с нейросетями и большими данными.\n"
      ],
      "metadata": {
        "id": "EzdflJ_bagr-"
      }
    }
  ]
}